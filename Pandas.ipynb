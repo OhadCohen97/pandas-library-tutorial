{
 "cells": [
  {
   "cell_type": "markdown",
   "metadata": {
    "collapsed": true,
    "pycharm": {
     "name": "#%% md\n"
    }
   },
   "source": [
    "**Pandas**"
   ]
  },
  {
   "cell_type": "code",
   "execution_count": 151,
   "outputs": [],
   "source": [
    "import pandas as pd"
   ],
   "metadata": {
    "collapsed": false,
    "pycharm": {
     "name": "#%%\n"
    }
   }
  },
  {
   "cell_type": "markdown",
   "source": [
    "**Series**:lets make our own series(One-dimensional ndarray with axis labels)"
   ],
   "metadata": {
    "collapsed": false
   }
  },
  {
   "cell_type": "markdown",
   "source": [
    "We want to add ages with their labels:"
   ],
   "metadata": {
    "collapsed": false
   }
  },
  {
   "cell_type": "code",
   "execution_count": 152,
   "outputs": [
    {
     "name": "stdout",
     "output_type": "stream",
     "text": [
      "age1    10\n",
      "age2    20\n",
      "age3    30\n",
      "age4    40\n",
      "dtype: int64\n",
      "age3: 30\n"
     ]
    }
   ],
   "source": [
    "age=pd.Series([10,20,30,40],index=['age1','age2','age3','age4'])\n",
    "print(age)\n",
    "print(\"age3:\",age.age3)"
   ],
   "metadata": {
    "collapsed": false,
    "pycharm": {
     "name": "#%%\n"
    }
   }
  },
  {
   "cell_type": "markdown",
   "source": [
    "If we want to filter the data:"
   ],
   "metadata": {
    "collapsed": false
   }
  },
  {
   "cell_type": "code",
   "execution_count": 153,
   "outputs": [
    {
     "data": {
      "text/plain": "age3    30\nage4    40\ndtype: int64"
     },
     "execution_count": 153,
     "metadata": {},
     "output_type": "execute_result"
    }
   ],
   "source": [
    "filtered=age[age>20]\n",
    "filtered"
   ],
   "metadata": {
    "collapsed": false,
    "pycharm": {
     "name": "#%%\n"
    }
   }
  },
  {
   "cell_type": "markdown",
   "source": [
    "Getting the values as numpy array:"
   ],
   "metadata": {
    "collapsed": false
   }
  },
  {
   "cell_type": "code",
   "execution_count": 154,
   "outputs": [
    {
     "name": "stdout",
     "output_type": "stream",
     "text": [
      "values: [10 20 30 40]\n"
     ]
    }
   ],
   "source": [
    "print(\"values:\",age.values)"
   ],
   "metadata": {
    "collapsed": false,
    "pycharm": {
     "name": "#%%\n"
    }
   }
  },
  {
   "cell_type": "markdown",
   "source": [
    "Getting the indices of the series:"
   ],
   "metadata": {
    "collapsed": false
   }
  },
  {
   "cell_type": "code",
   "execution_count": 155,
   "outputs": [
    {
     "data": {
      "text/plain": "Index(['age1', 'age2', 'age3', 'age4'], dtype='object')"
     },
     "execution_count": 155,
     "metadata": {},
     "output_type": "execute_result"
    }
   ],
   "source": [
    "age.index"
   ],
   "metadata": {
    "collapsed": false,
    "pycharm": {
     "name": "#%%\n"
    }
   }
  },
  {
   "cell_type": "markdown",
   "source": [
    "We can change the indices:"
   ],
   "metadata": {
    "collapsed": false
   }
  },
  {
   "cell_type": "code",
   "execution_count": 156,
   "outputs": [
    {
     "data": {
      "text/plain": "Index(['A1', 'A2', 'A3', 'A4'], dtype='object')"
     },
     "execution_count": 156,
     "metadata": {},
     "output_type": "execute_result"
    }
   ],
   "source": [
    "age.index = ['A1','A2','A3','A4']\n",
    "age.index"
   ],
   "metadata": {
    "collapsed": false,
    "pycharm": {
     "name": "#%%\n"
    }
   }
  },
  {
   "cell_type": "markdown",
   "source": [
    "**Data Frame**"
   ],
   "metadata": {
    "collapsed": false
   }
  },
  {
   "cell_type": "markdown",
   "source": [
    "First,import numpy:"
   ],
   "metadata": {
    "collapsed": false
   }
  },
  {
   "cell_type": "code",
   "execution_count": 157,
   "outputs": [],
   "source": [
    "import numpy as np"
   ],
   "metadata": {
    "collapsed": false,
    "pycharm": {
     "name": "#%%\n"
    }
   }
  },
  {
   "cell_type": "code",
   "execution_count": 158,
   "outputs": [
    {
     "data": {
      "text/plain": "array([[20, 10,  8],\n       [25,  8, 10],\n       [27,  5,  3],\n       [30,  9,  7]])"
     },
     "execution_count": 158,
     "metadata": {},
     "output_type": "execute_result"
    }
   ],
   "source": [
    "df=np.array([[20,10,8],[25,8,10],[27,5,3],[30,9,7]])#type :array of int32 format\n",
    "df"
   ],
   "metadata": {
    "collapsed": false,
    "pycharm": {
     "name": "#%%\n"
    }
   }
  },
  {
   "cell_type": "markdown",
   "source": [
    "Change the variable 'df' to DataFrame:\n",
    "\n",
    "**Note:**DataFrame is pandas object- we can manipulate our data with it."
   ],
   "metadata": {
    "collapsed": false,
    "pycharm": {
     "name": "#%% md\n"
    }
   }
  },
  {
   "cell_type": "code",
   "execution_count": 159,
   "outputs": [
    {
     "data": {
      "text/plain": "    0   1   2\n0  20  10   8\n1  25   8  10\n2  27   5   3\n3  30   9   7",
      "text/html": "<div>\n<style scoped>\n    .dataframe tbody tr th:only-of-type {\n        vertical-align: middle;\n    }\n\n    .dataframe tbody tr th {\n        vertical-align: top;\n    }\n\n    .dataframe thead th {\n        text-align: right;\n    }\n</style>\n<table border=\"1\" class=\"dataframe\">\n  <thead>\n    <tr style=\"text-align: right;\">\n      <th></th>\n      <th>0</th>\n      <th>1</th>\n      <th>2</th>\n    </tr>\n  </thead>\n  <tbody>\n    <tr>\n      <th>0</th>\n      <td>20</td>\n      <td>10</td>\n      <td>8</td>\n    </tr>\n    <tr>\n      <th>1</th>\n      <td>25</td>\n      <td>8</td>\n      <td>10</td>\n    </tr>\n    <tr>\n      <th>2</th>\n      <td>27</td>\n      <td>5</td>\n      <td>3</td>\n    </tr>\n    <tr>\n      <th>3</th>\n      <td>30</td>\n      <td>9</td>\n      <td>7</td>\n    </tr>\n  </tbody>\n</table>\n</div>"
     },
     "execution_count": 159,
     "metadata": {},
     "output_type": "execute_result"
    }
   ],
   "source": [
    "data_set=pd.DataFrame(df)#type :DataFrame format\n",
    "data_set"
   ],
   "metadata": {
    "collapsed": false,
    "pycharm": {
     "name": "#%%\n"
    }
   }
  },
  {
   "cell_type": "markdown",
   "source": [
    "Define labels indices of the variable 'data_set':"
   ],
   "metadata": {
    "collapsed": false
   }
  },
  {
   "cell_type": "code",
   "execution_count": 160,
   "outputs": [
    {
     "name": "stdout",
     "output_type": "stream",
     "text": [
      "           0   1   2\n",
      "student1  20  10   8\n",
      "student2  25   8  10\n",
      "student3  27   5   3\n",
      "student4  30   9   7\n"
     ]
    }
   ],
   "source": [
    "data_set=pd.DataFrame(df,index=['student1','student2','student3','student4'])#define indices for rows\n",
    "print(data_set)"
   ],
   "metadata": {
    "collapsed": false,
    "pycharm": {
     "name": "#%%\n"
    }
   }
  },
  {
   "cell_type": "markdown",
   "source": [
    "Define for labels indices for columns:"
   ],
   "metadata": {
    "collapsed": false
   }
  },
  {
   "cell_type": "code",
   "execution_count": 161,
   "outputs": [
    {
     "data": {
      "text/plain": "          age  grade1  grade2\nstudent1   20      10       8\nstudent2   25       8      10\nstudent3   27       5       3\nstudent4   30       9       7",
      "text/html": "<div>\n<style scoped>\n    .dataframe tbody tr th:only-of-type {\n        vertical-align: middle;\n    }\n\n    .dataframe tbody tr th {\n        vertical-align: top;\n    }\n\n    .dataframe thead th {\n        text-align: right;\n    }\n</style>\n<table border=\"1\" class=\"dataframe\">\n  <thead>\n    <tr style=\"text-align: right;\">\n      <th></th>\n      <th>age</th>\n      <th>grade1</th>\n      <th>grade2</th>\n    </tr>\n  </thead>\n  <tbody>\n    <tr>\n      <th>student1</th>\n      <td>20</td>\n      <td>10</td>\n      <td>8</td>\n    </tr>\n    <tr>\n      <th>student2</th>\n      <td>25</td>\n      <td>8</td>\n      <td>10</td>\n    </tr>\n    <tr>\n      <th>student3</th>\n      <td>27</td>\n      <td>5</td>\n      <td>3</td>\n    </tr>\n    <tr>\n      <th>student4</th>\n      <td>30</td>\n      <td>9</td>\n      <td>7</td>\n    </tr>\n  </tbody>\n</table>\n</div>"
     },
     "execution_count": 161,
     "metadata": {},
     "output_type": "execute_result"
    }
   ],
   "source": [
    "data_set=pd.DataFrame(df,index=['student1','student2','student3','student4'],columns=['age','grade1','grade2'])\n",
    "data_set"
   ],
   "metadata": {
    "collapsed": false,
    "pycharm": {
     "name": "#%%\n"
    }
   }
  },
  {
   "cell_type": "markdown",
   "source": [
    "Adding another column to 'data_set';\n",
    "we want to add column called 'grade3' and define grades of this column:"
   ],
   "metadata": {
    "collapsed": false,
    "pycharm": {
     "name": "#%% md\n"
    }
   }
  },
  {
   "cell_type": "code",
   "execution_count": 162,
   "outputs": [
    {
     "data": {
      "text/plain": "          age  grade1  grade2  grade3\nstudent1   20      10       8       9\nstudent2   25       8      10       6\nstudent3   27       5       3       7\nstudent4   30       9       7      10",
      "text/html": "<div>\n<style scoped>\n    .dataframe tbody tr th:only-of-type {\n        vertical-align: middle;\n    }\n\n    .dataframe tbody tr th {\n        vertical-align: top;\n    }\n\n    .dataframe thead th {\n        text-align: right;\n    }\n</style>\n<table border=\"1\" class=\"dataframe\">\n  <thead>\n    <tr style=\"text-align: right;\">\n      <th></th>\n      <th>age</th>\n      <th>grade1</th>\n      <th>grade2</th>\n      <th>grade3</th>\n    </tr>\n  </thead>\n  <tbody>\n    <tr>\n      <th>student1</th>\n      <td>20</td>\n      <td>10</td>\n      <td>8</td>\n      <td>9</td>\n    </tr>\n    <tr>\n      <th>student2</th>\n      <td>25</td>\n      <td>8</td>\n      <td>10</td>\n      <td>6</td>\n    </tr>\n    <tr>\n      <th>student3</th>\n      <td>27</td>\n      <td>5</td>\n      <td>3</td>\n      <td>7</td>\n    </tr>\n    <tr>\n      <th>student4</th>\n      <td>30</td>\n      <td>9</td>\n      <td>7</td>\n      <td>10</td>\n    </tr>\n  </tbody>\n</table>\n</div>"
     },
     "execution_count": 162,
     "metadata": {},
     "output_type": "execute_result"
    }
   ],
   "source": [
    "data_set['grade3']=[9,6,7,10]\n",
    "data_set"
   ],
   "metadata": {
    "collapsed": false,
    "pycharm": {
     "name": "#%%\n"
    }
   }
  },
  {
   "cell_type": "markdown",
   "source": [
    "**loc and iloc methods**\n",
    "\n",
    "This section is very usfull for preprocessing the data.\n",
    "We will access the values of the data with index or labels.\n",
    "\n",
    "[Rows,columns]\n",
    "\n",
    "We use 'loc' method when we want to select special objects or series(by labels) in our data frame.\n",
    "\n",
    "use 'loc' method if you know the labels(index name)."
   ],
   "metadata": {
    "collapsed": false
   }
  },
  {
   "cell_type": "code",
   "execution_count": 163,
   "outputs": [
    {
     "data": {
      "text/plain": "age       25\ngrade1     8\ngrade2    10\ngrade3     6\nName: student2, dtype: int64"
     },
     "execution_count": 163,
     "metadata": {},
     "output_type": "execute_result"
    }
   ],
   "source": [
    "data_set.loc[\"student2\"]"
   ],
   "metadata": {
    "collapsed": false,
    "pycharm": {
     "name": "#%%\n"
    }
   }
  },
  {
   "cell_type": "markdown",
   "source": [
    "With **iloc** method- use indices to get specific values in the data frame:\n",
    "\n",
    "['student2','grade3']-->6"
   ],
   "metadata": {
    "collapsed": false,
    "pycharm": {
     "name": "#%% md\n"
    }
   }
  },
  {
   "cell_type": "code",
   "execution_count": 164,
   "outputs": [
    {
     "data": {
      "text/plain": "6"
     },
     "execution_count": 164,
     "metadata": {},
     "output_type": "execute_result"
    }
   ],
   "source": [
    "data_set.iloc[1][3]# 6\n",
    "data_set.iloc[1,3] #another way"
   ],
   "metadata": {
    "collapsed": false,
    "pycharm": {
     "name": "#%%\n"
    }
   }
  },
  {
   "cell_type": "markdown",
   "source": [
    "If you need all the rows and one column\n",
    "\n",
    "':' = will give you all the rows/columns.\n",
    "\n",
    "all rows and index 0 (['age'] column)"
   ],
   "metadata": {
    "collapsed": false,
    "pycharm": {
     "name": "#%% md\n"
    }
   }
  },
  {
   "cell_type": "code",
   "execution_count": 165,
   "outputs": [
    {
     "data": {
      "text/plain": "student1    20\nstudent2    25\nstudent3    27\nstudent4    30\nName: age, dtype: int64"
     },
     "execution_count": 165,
     "metadata": {},
     "output_type": "execute_result"
    }
   ],
   "source": [
    "data_set.iloc[:,0]"
   ],
   "metadata": {
    "collapsed": false,
    "pycharm": {
     "name": "#%%\n"
    }
   }
  },
  {
   "cell_type": "markdown",
   "source": [
    "If you need all the rows and specific columns:\n",
    "\n",
    "all the rows (':') and two columns ['grade1','grade2']\n",
    "column index 1 (['grade1']) and column index 2 (['grade2'],not including index 3)"
   ],
   "metadata": {
    "collapsed": false
   }
  },
  {
   "cell_type": "code",
   "execution_count": 166,
   "outputs": [
    {
     "data": {
      "text/plain": "          grade1  grade2\nstudent1      10       8\nstudent2       8      10\nstudent3       5       3\nstudent4       9       7",
      "text/html": "<div>\n<style scoped>\n    .dataframe tbody tr th:only-of-type {\n        vertical-align: middle;\n    }\n\n    .dataframe tbody tr th {\n        vertical-align: top;\n    }\n\n    .dataframe thead th {\n        text-align: right;\n    }\n</style>\n<table border=\"1\" class=\"dataframe\">\n  <thead>\n    <tr style=\"text-align: right;\">\n      <th></th>\n      <th>grade1</th>\n      <th>grade2</th>\n    </tr>\n  </thead>\n  <tbody>\n    <tr>\n      <th>student1</th>\n      <td>10</td>\n      <td>8</td>\n    </tr>\n    <tr>\n      <th>student2</th>\n      <td>8</td>\n      <td>10</td>\n    </tr>\n    <tr>\n      <th>student3</th>\n      <td>5</td>\n      <td>3</td>\n    </tr>\n    <tr>\n      <th>student4</th>\n      <td>9</td>\n      <td>7</td>\n    </tr>\n  </tbody>\n</table>\n</div>"
     },
     "execution_count": 166,
     "metadata": {},
     "output_type": "execute_result"
    }
   ],
   "source": [
    "filtered_data_set=data_set.iloc[:,1:3]\n",
    "filtered_data_set"
   ],
   "metadata": {
    "collapsed": false,
    "pycharm": {
     "name": "#%%\n"
    }
   }
  },
  {
   "cell_type": "markdown",
   "source": [
    "**Drop and change the data**\n",
    "\n",
    "Use 'drop' method to drop the row or column you want to.\n",
    "\n",
    "First, we need to mention what to drop- row or column. To define this use the 'axis=' when declare the 'drop' method.\n",
    "'axis=1' will drop in vertical way(column).\n",
    "\n",
    "Lest drop from the data frame ['grade1']"
   ],
   "metadata": {
    "collapsed": false,
    "pycharm": {
     "name": "#%% md\n"
    }
   }
  },
  {
   "cell_type": "markdown",
   "source": [
    "Data frame before drop:"
   ],
   "metadata": {
    "collapsed": false
   }
  },
  {
   "cell_type": "code",
   "execution_count": 167,
   "outputs": [
    {
     "data": {
      "text/plain": "          age  grade1  grade2  grade3\nstudent1   20      10       8       9\nstudent2   25       8      10       6\nstudent3   27       5       3       7\nstudent4   30       9       7      10",
      "text/html": "<div>\n<style scoped>\n    .dataframe tbody tr th:only-of-type {\n        vertical-align: middle;\n    }\n\n    .dataframe tbody tr th {\n        vertical-align: top;\n    }\n\n    .dataframe thead th {\n        text-align: right;\n    }\n</style>\n<table border=\"1\" class=\"dataframe\">\n  <thead>\n    <tr style=\"text-align: right;\">\n      <th></th>\n      <th>age</th>\n      <th>grade1</th>\n      <th>grade2</th>\n      <th>grade3</th>\n    </tr>\n  </thead>\n  <tbody>\n    <tr>\n      <th>student1</th>\n      <td>20</td>\n      <td>10</td>\n      <td>8</td>\n      <td>9</td>\n    </tr>\n    <tr>\n      <th>student2</th>\n      <td>25</td>\n      <td>8</td>\n      <td>10</td>\n      <td>6</td>\n    </tr>\n    <tr>\n      <th>student3</th>\n      <td>27</td>\n      <td>5</td>\n      <td>3</td>\n      <td>7</td>\n    </tr>\n    <tr>\n      <th>student4</th>\n      <td>30</td>\n      <td>9</td>\n      <td>7</td>\n      <td>10</td>\n    </tr>\n  </tbody>\n</table>\n</div>"
     },
     "execution_count": 167,
     "metadata": {},
     "output_type": "execute_result"
    }
   ],
   "source": [
    "data_set"
   ],
   "metadata": {
    "collapsed": false,
    "pycharm": {
     "name": "#%%\n"
    }
   }
  },
  {
   "cell_type": "markdown",
   "source": [
    "Data frame after drop:"
   ],
   "metadata": {
    "collapsed": false
   }
  },
  {
   "cell_type": "code",
   "execution_count": 168,
   "outputs": [
    {
     "data": {
      "text/plain": "          age  grade2  grade3\nstudent1   20       8       9\nstudent2   25      10       6\nstudent3   27       3       7\nstudent4   30       7      10",
      "text/html": "<div>\n<style scoped>\n    .dataframe tbody tr th:only-of-type {\n        vertical-align: middle;\n    }\n\n    .dataframe tbody tr th {\n        vertical-align: top;\n    }\n\n    .dataframe thead th {\n        text-align: right;\n    }\n</style>\n<table border=\"1\" class=\"dataframe\">\n  <thead>\n    <tr style=\"text-align: right;\">\n      <th></th>\n      <th>age</th>\n      <th>grade2</th>\n      <th>grade3</th>\n    </tr>\n  </thead>\n  <tbody>\n    <tr>\n      <th>student1</th>\n      <td>20</td>\n      <td>8</td>\n      <td>9</td>\n    </tr>\n    <tr>\n      <th>student2</th>\n      <td>25</td>\n      <td>10</td>\n      <td>6</td>\n    </tr>\n    <tr>\n      <th>student3</th>\n      <td>27</td>\n      <td>3</td>\n      <td>7</td>\n    </tr>\n    <tr>\n      <th>student4</th>\n      <td>30</td>\n      <td>7</td>\n      <td>10</td>\n    </tr>\n  </tbody>\n</table>\n</div>"
     },
     "execution_count": 168,
     "metadata": {},
     "output_type": "execute_result"
    }
   ],
   "source": [
    "data_set.drop('grade1',axis=1)"
   ],
   "metadata": {
    "collapsed": false,
    "pycharm": {
     "name": "#%%\n"
    }
   }
  },
  {
   "cell_type": "markdown",
   "source": [
    "Replace values in the data frame-\n",
    "use the 'replace' method.\n",
    "\n",
    "Replace(number_to_replace,new_value).\n",
    "We will replace the three values of 10 to three values of 12:"
   ],
   "metadata": {
    "collapsed": false,
    "pycharm": {
     "name": "#%% md\n"
    }
   }
  },
  {
   "cell_type": "code",
   "execution_count": 169,
   "outputs": [
    {
     "data": {
      "text/plain": "          age  grade1  grade2  grade3\nstudent1   20      12       8       9\nstudent2   25       8      12       6\nstudent3   27       5       3       7\nstudent4   30       9       7      12",
      "text/html": "<div>\n<style scoped>\n    .dataframe tbody tr th:only-of-type {\n        vertical-align: middle;\n    }\n\n    .dataframe tbody tr th {\n        vertical-align: top;\n    }\n\n    .dataframe thead th {\n        text-align: right;\n    }\n</style>\n<table border=\"1\" class=\"dataframe\">\n  <thead>\n    <tr style=\"text-align: right;\">\n      <th></th>\n      <th>age</th>\n      <th>grade1</th>\n      <th>grade2</th>\n      <th>grade3</th>\n    </tr>\n  </thead>\n  <tbody>\n    <tr>\n      <th>student1</th>\n      <td>20</td>\n      <td>12</td>\n      <td>8</td>\n      <td>9</td>\n    </tr>\n    <tr>\n      <th>student2</th>\n      <td>25</td>\n      <td>8</td>\n      <td>12</td>\n      <td>6</td>\n    </tr>\n    <tr>\n      <th>student3</th>\n      <td>27</td>\n      <td>5</td>\n      <td>3</td>\n      <td>7</td>\n    </tr>\n    <tr>\n      <th>student4</th>\n      <td>30</td>\n      <td>9</td>\n      <td>7</td>\n      <td>12</td>\n    </tr>\n  </tbody>\n</table>\n</div>"
     },
     "execution_count": 169,
     "metadata": {},
     "output_type": "execute_result"
    }
   ],
   "source": [
    "data_set=data_set.replace(10,12)\n",
    "data_set"
   ],
   "metadata": {
    "collapsed": false,
    "pycharm": {
     "name": "#%%\n"
    }
   }
  },
  {
   "cell_type": "markdown",
   "source": [
    "We can use dictionary for replace many different values:"
   ],
   "metadata": {
    "collapsed": false
   }
  },
  {
   "cell_type": "code",
   "execution_count": 170,
   "outputs": [
    {
     "data": {
      "text/plain": "          age  grade1  grade2  grade3\nstudent1   20      10       8      30\nstudent2   25       8      10       6\nstudent3   27       5       3       7\nstudent4   30      30       7      10",
      "text/html": "<div>\n<style scoped>\n    .dataframe tbody tr th:only-of-type {\n        vertical-align: middle;\n    }\n\n    .dataframe tbody tr th {\n        vertical-align: top;\n    }\n\n    .dataframe thead th {\n        text-align: right;\n    }\n</style>\n<table border=\"1\" class=\"dataframe\">\n  <thead>\n    <tr style=\"text-align: right;\">\n      <th></th>\n      <th>age</th>\n      <th>grade1</th>\n      <th>grade2</th>\n      <th>grade3</th>\n    </tr>\n  </thead>\n  <tbody>\n    <tr>\n      <th>student1</th>\n      <td>20</td>\n      <td>10</td>\n      <td>8</td>\n      <td>30</td>\n    </tr>\n    <tr>\n      <th>student2</th>\n      <td>25</td>\n      <td>8</td>\n      <td>10</td>\n      <td>6</td>\n    </tr>\n    <tr>\n      <th>student3</th>\n      <td>27</td>\n      <td>5</td>\n      <td>3</td>\n      <td>7</td>\n    </tr>\n    <tr>\n      <th>student4</th>\n      <td>30</td>\n      <td>30</td>\n      <td>7</td>\n      <td>10</td>\n    </tr>\n  </tbody>\n</table>\n</div>"
     },
     "execution_count": 170,
     "metadata": {},
     "output_type": "execute_result"
    }
   ],
   "source": [
    "data_set=data_set.replace({12:10,9:30})\n",
    "data_set"
   ],
   "metadata": {
    "collapsed": false,
    "pycharm": {
     "name": "#%%\n"
    }
   }
  },
  {
   "cell_type": "markdown",
   "source": [
    "**If you have a big data set you can view the data quickly by using 'head' or 'tail' method inorder to understand it.**"
   ],
   "metadata": {
    "collapsed": false,
    "pycharm": {
     "name": "#%% md\n"
    }
   }
  },
  {
   "cell_type": "code",
   "execution_count": 171,
   "outputs": [
    {
     "data": {
      "text/plain": "          age  grade1  grade2  grade3\nstudent1   20      10       8      30\nstudent2   25       8      10       6",
      "text/html": "<div>\n<style scoped>\n    .dataframe tbody tr th:only-of-type {\n        vertical-align: middle;\n    }\n\n    .dataframe tbody tr th {\n        vertical-align: top;\n    }\n\n    .dataframe thead th {\n        text-align: right;\n    }\n</style>\n<table border=\"1\" class=\"dataframe\">\n  <thead>\n    <tr style=\"text-align: right;\">\n      <th></th>\n      <th>age</th>\n      <th>grade1</th>\n      <th>grade2</th>\n      <th>grade3</th>\n    </tr>\n  </thead>\n  <tbody>\n    <tr>\n      <th>student1</th>\n      <td>20</td>\n      <td>10</td>\n      <td>8</td>\n      <td>30</td>\n    </tr>\n    <tr>\n      <th>student2</th>\n      <td>25</td>\n      <td>8</td>\n      <td>10</td>\n      <td>6</td>\n    </tr>\n  </tbody>\n</table>\n</div>"
     },
     "execution_count": 171,
     "metadata": {},
     "output_type": "execute_result"
    }
   ],
   "source": [
    "data_set.head(2) #seing only the first 2 rows of the dataset."
   ],
   "metadata": {
    "collapsed": false,
    "pycharm": {
     "name": "#%%\n"
    }
   }
  },
  {
   "cell_type": "code",
   "execution_count": 172,
   "outputs": [
    {
     "data": {
      "text/plain": "          age  grade1  grade2  grade3\nstudent3   27       5       3       7\nstudent4   30      30       7      10",
      "text/html": "<div>\n<style scoped>\n    .dataframe tbody tr th:only-of-type {\n        vertical-align: middle;\n    }\n\n    .dataframe tbody tr th {\n        vertical-align: top;\n    }\n\n    .dataframe thead th {\n        text-align: right;\n    }\n</style>\n<table border=\"1\" class=\"dataframe\">\n  <thead>\n    <tr style=\"text-align: right;\">\n      <th></th>\n      <th>age</th>\n      <th>grade1</th>\n      <th>grade2</th>\n      <th>grade3</th>\n    </tr>\n  </thead>\n  <tbody>\n    <tr>\n      <th>student3</th>\n      <td>27</td>\n      <td>5</td>\n      <td>3</td>\n      <td>7</td>\n    </tr>\n    <tr>\n      <th>student4</th>\n      <td>30</td>\n      <td>30</td>\n      <td>7</td>\n      <td>10</td>\n    </tr>\n  </tbody>\n</table>\n</div>"
     },
     "execution_count": 172,
     "metadata": {},
     "output_type": "execute_result"
    }
   ],
   "source": [
    "data_set.tail(2) #seing only the last 2 rows of the dataset."
   ],
   "metadata": {
    "collapsed": false,
    "pycharm": {
     "name": "#%%\n"
    }
   }
  },
  {
   "cell_type": "markdown",
   "source": [
    "**Sorting your dataset**\n",
    "\n",
    "You can sort by value or sort by index.\n",
    "\n",
    "There are two methods:\n",
    "'sort_values' and 'sort_index'\n",
    "'axis=0' is to rows, 'axis=1' is to columns.\n",
    "\n",
    "'sort_values' is for sorting the labels,need to define what label we want to sort.\n",
    "\n",
    "Also, need to set if we want to sort in ascending order or descending order."
   ],
   "metadata": {
    "collapsed": false,
    "pycharm": {
     "name": "#%% md\n"
    }
   }
  },
  {
   "cell_type": "markdown",
   "source": [
    "Data set before 'sort_values':"
   ],
   "metadata": {
    "collapsed": false
   }
  },
  {
   "cell_type": "code",
   "execution_count": 173,
   "outputs": [
    {
     "data": {
      "text/plain": "          age  grade1  grade2  grade3\nstudent1   20      10       8      30\nstudent2   25       8      10       6\nstudent3   27       5       3       7\nstudent4   30      30       7      10",
      "text/html": "<div>\n<style scoped>\n    .dataframe tbody tr th:only-of-type {\n        vertical-align: middle;\n    }\n\n    .dataframe tbody tr th {\n        vertical-align: top;\n    }\n\n    .dataframe thead th {\n        text-align: right;\n    }\n</style>\n<table border=\"1\" class=\"dataframe\">\n  <thead>\n    <tr style=\"text-align: right;\">\n      <th></th>\n      <th>age</th>\n      <th>grade1</th>\n      <th>grade2</th>\n      <th>grade3</th>\n    </tr>\n  </thead>\n  <tbody>\n    <tr>\n      <th>student1</th>\n      <td>20</td>\n      <td>10</td>\n      <td>8</td>\n      <td>30</td>\n    </tr>\n    <tr>\n      <th>student2</th>\n      <td>25</td>\n      <td>8</td>\n      <td>10</td>\n      <td>6</td>\n    </tr>\n    <tr>\n      <th>student3</th>\n      <td>27</td>\n      <td>5</td>\n      <td>3</td>\n      <td>7</td>\n    </tr>\n    <tr>\n      <th>student4</th>\n      <td>30</td>\n      <td>30</td>\n      <td>7</td>\n      <td>10</td>\n    </tr>\n  </tbody>\n</table>\n</div>"
     },
     "execution_count": 173,
     "metadata": {},
     "output_type": "execute_result"
    }
   ],
   "source": [
    "data_set"
   ],
   "metadata": {
    "collapsed": false,
    "pycharm": {
     "name": "#%%\n"
    }
   }
  },
  {
   "cell_type": "markdown",
   "source": [
    "Data set after 'sort_values':"
   ],
   "metadata": {
    "collapsed": false
   }
  },
  {
   "cell_type": "code",
   "execution_count": 174,
   "outputs": [
    {
     "data": {
      "text/plain": "          age  grade1  grade2  grade3\nstudent3   27       5       3       7\nstudent4   30      30       7      10\nstudent1   20      10       8      30\nstudent2   25       8      10       6",
      "text/html": "<div>\n<style scoped>\n    .dataframe tbody tr th:only-of-type {\n        vertical-align: middle;\n    }\n\n    .dataframe tbody tr th {\n        vertical-align: top;\n    }\n\n    .dataframe thead th {\n        text-align: right;\n    }\n</style>\n<table border=\"1\" class=\"dataframe\">\n  <thead>\n    <tr style=\"text-align: right;\">\n      <th></th>\n      <th>age</th>\n      <th>grade1</th>\n      <th>grade2</th>\n      <th>grade3</th>\n    </tr>\n  </thead>\n  <tbody>\n    <tr>\n      <th>student3</th>\n      <td>27</td>\n      <td>5</td>\n      <td>3</td>\n      <td>7</td>\n    </tr>\n    <tr>\n      <th>student4</th>\n      <td>30</td>\n      <td>30</td>\n      <td>7</td>\n      <td>10</td>\n    </tr>\n    <tr>\n      <th>student1</th>\n      <td>20</td>\n      <td>10</td>\n      <td>8</td>\n      <td>30</td>\n    </tr>\n    <tr>\n      <th>student2</th>\n      <td>25</td>\n      <td>8</td>\n      <td>10</td>\n      <td>6</td>\n    </tr>\n  </tbody>\n</table>\n</div>"
     },
     "execution_count": 174,
     "metadata": {},
     "output_type": "execute_result"
    }
   ],
   "source": [
    "data_set.sort_values(['grade2'],axis=0,ascending=True) #ascending=False will sort in descending order"
   ],
   "metadata": {
    "collapsed": false,
    "pycharm": {
     "name": "#%%\n"
    }
   }
  },
  {
   "cell_type": "markdown",
   "source": [
    "Now we will sort by indices:"
   ],
   "metadata": {
    "collapsed": false
   }
  },
  {
   "cell_type": "code",
   "execution_count": 175,
   "outputs": [
    {
     "data": {
      "text/plain": "          age  grade1  grade2  grade3\nstudent4   30      30       7      10\nstudent3   27       5       3       7\nstudent2   25       8      10       6\nstudent1   20      10       8      30",
      "text/html": "<div>\n<style scoped>\n    .dataframe tbody tr th:only-of-type {\n        vertical-align: middle;\n    }\n\n    .dataframe tbody tr th {\n        vertical-align: top;\n    }\n\n    .dataframe thead th {\n        text-align: right;\n    }\n</style>\n<table border=\"1\" class=\"dataframe\">\n  <thead>\n    <tr style=\"text-align: right;\">\n      <th></th>\n      <th>age</th>\n      <th>grade1</th>\n      <th>grade2</th>\n      <th>grade3</th>\n    </tr>\n  </thead>\n  <tbody>\n    <tr>\n      <th>student4</th>\n      <td>30</td>\n      <td>30</td>\n      <td>7</td>\n      <td>10</td>\n    </tr>\n    <tr>\n      <th>student3</th>\n      <td>27</td>\n      <td>5</td>\n      <td>3</td>\n      <td>7</td>\n    </tr>\n    <tr>\n      <th>student2</th>\n      <td>25</td>\n      <td>8</td>\n      <td>10</td>\n      <td>6</td>\n    </tr>\n    <tr>\n      <th>student1</th>\n      <td>20</td>\n      <td>10</td>\n      <td>8</td>\n      <td>30</td>\n    </tr>\n  </tbody>\n</table>\n</div>"
     },
     "execution_count": 175,
     "metadata": {},
     "output_type": "execute_result"
    }
   ],
   "source": [
    "data_set.sort_index(axis=0,ascending=False)#descending order"
   ],
   "metadata": {
    "collapsed": false,
    "pycharm": {
     "name": "#%%\n"
    }
   }
  },
  {
   "cell_type": "code",
   "execution_count": 176,
   "outputs": [
    {
     "data": {
      "text/plain": "          age  grade1  grade2  grade3\nstudent1   20      10       8      30\nstudent2   25       8      10       6\nstudent3   27       5       3       7\nstudent4   30      30       7      10",
      "text/html": "<div>\n<style scoped>\n    .dataframe tbody tr th:only-of-type {\n        vertical-align: middle;\n    }\n\n    .dataframe tbody tr th {\n        vertical-align: top;\n    }\n\n    .dataframe thead th {\n        text-align: right;\n    }\n</style>\n<table border=\"1\" class=\"dataframe\">\n  <thead>\n    <tr style=\"text-align: right;\">\n      <th></th>\n      <th>age</th>\n      <th>grade1</th>\n      <th>grade2</th>\n      <th>grade3</th>\n    </tr>\n  </thead>\n  <tbody>\n    <tr>\n      <th>student1</th>\n      <td>20</td>\n      <td>10</td>\n      <td>8</td>\n      <td>30</td>\n    </tr>\n    <tr>\n      <th>student2</th>\n      <td>25</td>\n      <td>8</td>\n      <td>10</td>\n      <td>6</td>\n    </tr>\n    <tr>\n      <th>student3</th>\n      <td>27</td>\n      <td>5</td>\n      <td>3</td>\n      <td>7</td>\n    </tr>\n    <tr>\n      <th>student4</th>\n      <td>30</td>\n      <td>30</td>\n      <td>7</td>\n      <td>10</td>\n    </tr>\n  </tbody>\n</table>\n</div>"
     },
     "execution_count": 176,
     "metadata": {},
     "output_type": "execute_result"
    }
   ],
   "source": [
    "data_set.sort_index(axis=0,ascending=True)#ascending order"
   ],
   "metadata": {
    "collapsed": false,
    "pycharm": {
     "name": "#%%\n"
    }
   }
  },
  {
   "cell_type": "code",
   "execution_count": 189,
   "outputs": [
    {
     "data": {
      "text/plain": "          grade3  grade2  grade1  age\nstudent1      30       8      10   20\nstudent2       6      10       8   25\nstudent3       7       3       5   27\nstudent4      10       7      30   30",
      "text/html": "<div>\n<style scoped>\n    .dataframe tbody tr th:only-of-type {\n        vertical-align: middle;\n    }\n\n    .dataframe tbody tr th {\n        vertical-align: top;\n    }\n\n    .dataframe thead th {\n        text-align: right;\n    }\n</style>\n<table border=\"1\" class=\"dataframe\">\n  <thead>\n    <tr style=\"text-align: right;\">\n      <th></th>\n      <th>grade3</th>\n      <th>grade2</th>\n      <th>grade1</th>\n      <th>age</th>\n    </tr>\n  </thead>\n  <tbody>\n    <tr>\n      <th>student1</th>\n      <td>30</td>\n      <td>8</td>\n      <td>10</td>\n      <td>20</td>\n    </tr>\n    <tr>\n      <th>student2</th>\n      <td>6</td>\n      <td>10</td>\n      <td>8</td>\n      <td>25</td>\n    </tr>\n    <tr>\n      <th>student3</th>\n      <td>7</td>\n      <td>3</td>\n      <td>5</td>\n      <td>27</td>\n    </tr>\n    <tr>\n      <th>student4</th>\n      <td>10</td>\n      <td>7</td>\n      <td>30</td>\n      <td>30</td>\n    </tr>\n  </tbody>\n</table>\n</div>"
     },
     "execution_count": 189,
     "metadata": {},
     "output_type": "execute_result"
    }
   ],
   "source": [
    "data_set.sort_index(axis=1,ascending=False)#sorting columns,ascending order"
   ],
   "metadata": {
    "collapsed": false,
    "pycharm": {
     "name": "#%%\n"
    }
   }
  },
  {
   "cell_type": "markdown",
   "source": [
    "_________________________"
   ],
   "metadata": {
    "collapsed": false
   }
  },
  {
   "cell_type": "markdown",
   "source": [
    "**Load date from CSV file into pandas**\n",
    "\n",
    "Note:pandas allows to read also txt and excel file"
   ],
   "metadata": {
    "collapsed": false,
    "pycharm": {
     "name": "#%% md\n"
    }
   }
  },
  {
   "cell_type": "code",
   "execution_count": 178,
   "outputs": [
    {
     "data": {
      "text/plain": "   Name of the data = Home Consumption Unnamed: 1 Unnamed: 2 Unnamed: 3  \\\n0                   Unit = kW and $/kW        NaN        NaN        NaN   \n1                                 Time     E_Plug     E_Heat      Price   \n2                                    1         24         28         10   \n3                                    2         17         32         12   \n4                                    3         16         34         11   \n5                                    3         16         34         11   \n6                                    4         16         33         12   \n7                                    5         16         30         10   \n8                                    6         16         31         10   \n9                                    7         19         28         14   \n10                                   8         22         29         12   \n11                                   9         25         26         12   \n12                                  10         26         24         14   \n13                                  11         27         20         14   \n14                                  12         30         19         16   \n15                                  13         30         19         16   \n16                                  14        NaN         13         17   \n17                                  15         27         14         17   \n18                                  16         27         16         17   \n19                                  17         28         -4         18   \n20                                  18         33         26         20   \n21                                  19         42         32         21   \n22                                  20        120         33         21   \n23                                  21         47         32         21   \n24                                  22         44         30         22   \n25                                  23         36         35          !   \n26                                  24         37         36         18   \n\n     Unnamed: 4     Unnamed: 5  \n0           NaN            NaN  \n1   Temperature  No. Occupants  \n2           -15             12  \n3           -17             12  \n4           -19             12  \n5           -19             12  \n6           -18             12  \n7           -14             12  \n8           -16             12  \n9           -14             12  \n10          -15              9  \n11          -12              8  \n12           -8              8  \n13           -4              8  \n14            0              5  \n15            0              4  \n16            2              4  \n17            3              4  \n18            2              6  \n19            0              8  \n20           -6              9  \n21           -8             10  \n22          -12             12  \n23          -16             12  \n24          -18             12  \n25          -19             12  \n26          -22             12  ",
      "text/html": "<div>\n<style scoped>\n    .dataframe tbody tr th:only-of-type {\n        vertical-align: middle;\n    }\n\n    .dataframe tbody tr th {\n        vertical-align: top;\n    }\n\n    .dataframe thead th {\n        text-align: right;\n    }\n</style>\n<table border=\"1\" class=\"dataframe\">\n  <thead>\n    <tr style=\"text-align: right;\">\n      <th></th>\n      <th>Name of the data = Home Consumption</th>\n      <th>Unnamed: 1</th>\n      <th>Unnamed: 2</th>\n      <th>Unnamed: 3</th>\n      <th>Unnamed: 4</th>\n      <th>Unnamed: 5</th>\n    </tr>\n  </thead>\n  <tbody>\n    <tr>\n      <th>0</th>\n      <td>Unit = kW and $/kW</td>\n      <td>NaN</td>\n      <td>NaN</td>\n      <td>NaN</td>\n      <td>NaN</td>\n      <td>NaN</td>\n    </tr>\n    <tr>\n      <th>1</th>\n      <td>Time</td>\n      <td>E_Plug</td>\n      <td>E_Heat</td>\n      <td>Price</td>\n      <td>Temperature</td>\n      <td>No. Occupants</td>\n    </tr>\n    <tr>\n      <th>2</th>\n      <td>1</td>\n      <td>24</td>\n      <td>28</td>\n      <td>10</td>\n      <td>-15</td>\n      <td>12</td>\n    </tr>\n    <tr>\n      <th>3</th>\n      <td>2</td>\n      <td>17</td>\n      <td>32</td>\n      <td>12</td>\n      <td>-17</td>\n      <td>12</td>\n    </tr>\n    <tr>\n      <th>4</th>\n      <td>3</td>\n      <td>16</td>\n      <td>34</td>\n      <td>11</td>\n      <td>-19</td>\n      <td>12</td>\n    </tr>\n    <tr>\n      <th>5</th>\n      <td>3</td>\n      <td>16</td>\n      <td>34</td>\n      <td>11</td>\n      <td>-19</td>\n      <td>12</td>\n    </tr>\n    <tr>\n      <th>6</th>\n      <td>4</td>\n      <td>16</td>\n      <td>33</td>\n      <td>12</td>\n      <td>-18</td>\n      <td>12</td>\n    </tr>\n    <tr>\n      <th>7</th>\n      <td>5</td>\n      <td>16</td>\n      <td>30</td>\n      <td>10</td>\n      <td>-14</td>\n      <td>12</td>\n    </tr>\n    <tr>\n      <th>8</th>\n      <td>6</td>\n      <td>16</td>\n      <td>31</td>\n      <td>10</td>\n      <td>-16</td>\n      <td>12</td>\n    </tr>\n    <tr>\n      <th>9</th>\n      <td>7</td>\n      <td>19</td>\n      <td>28</td>\n      <td>14</td>\n      <td>-14</td>\n      <td>12</td>\n    </tr>\n    <tr>\n      <th>10</th>\n      <td>8</td>\n      <td>22</td>\n      <td>29</td>\n      <td>12</td>\n      <td>-15</td>\n      <td>9</td>\n    </tr>\n    <tr>\n      <th>11</th>\n      <td>9</td>\n      <td>25</td>\n      <td>26</td>\n      <td>12</td>\n      <td>-12</td>\n      <td>8</td>\n    </tr>\n    <tr>\n      <th>12</th>\n      <td>10</td>\n      <td>26</td>\n      <td>24</td>\n      <td>14</td>\n      <td>-8</td>\n      <td>8</td>\n    </tr>\n    <tr>\n      <th>13</th>\n      <td>11</td>\n      <td>27</td>\n      <td>20</td>\n      <td>14</td>\n      <td>-4</td>\n      <td>8</td>\n    </tr>\n    <tr>\n      <th>14</th>\n      <td>12</td>\n      <td>30</td>\n      <td>19</td>\n      <td>16</td>\n      <td>0</td>\n      <td>5</td>\n    </tr>\n    <tr>\n      <th>15</th>\n      <td>13</td>\n      <td>30</td>\n      <td>19</td>\n      <td>16</td>\n      <td>0</td>\n      <td>4</td>\n    </tr>\n    <tr>\n      <th>16</th>\n      <td>14</td>\n      <td>NaN</td>\n      <td>13</td>\n      <td>17</td>\n      <td>2</td>\n      <td>4</td>\n    </tr>\n    <tr>\n      <th>17</th>\n      <td>15</td>\n      <td>27</td>\n      <td>14</td>\n      <td>17</td>\n      <td>3</td>\n      <td>4</td>\n    </tr>\n    <tr>\n      <th>18</th>\n      <td>16</td>\n      <td>27</td>\n      <td>16</td>\n      <td>17</td>\n      <td>2</td>\n      <td>6</td>\n    </tr>\n    <tr>\n      <th>19</th>\n      <td>17</td>\n      <td>28</td>\n      <td>-4</td>\n      <td>18</td>\n      <td>0</td>\n      <td>8</td>\n    </tr>\n    <tr>\n      <th>20</th>\n      <td>18</td>\n      <td>33</td>\n      <td>26</td>\n      <td>20</td>\n      <td>-6</td>\n      <td>9</td>\n    </tr>\n    <tr>\n      <th>21</th>\n      <td>19</td>\n      <td>42</td>\n      <td>32</td>\n      <td>21</td>\n      <td>-8</td>\n      <td>10</td>\n    </tr>\n    <tr>\n      <th>22</th>\n      <td>20</td>\n      <td>120</td>\n      <td>33</td>\n      <td>21</td>\n      <td>-12</td>\n      <td>12</td>\n    </tr>\n    <tr>\n      <th>23</th>\n      <td>21</td>\n      <td>47</td>\n      <td>32</td>\n      <td>21</td>\n      <td>-16</td>\n      <td>12</td>\n    </tr>\n    <tr>\n      <th>24</th>\n      <td>22</td>\n      <td>44</td>\n      <td>30</td>\n      <td>22</td>\n      <td>-18</td>\n      <td>12</td>\n    </tr>\n    <tr>\n      <th>25</th>\n      <td>23</td>\n      <td>36</td>\n      <td>35</td>\n      <td>!</td>\n      <td>-19</td>\n      <td>12</td>\n    </tr>\n    <tr>\n      <th>26</th>\n      <td>24</td>\n      <td>37</td>\n      <td>36</td>\n      <td>18</td>\n      <td>-22</td>\n      <td>12</td>\n    </tr>\n  </tbody>\n</table>\n</div>"
     },
     "execution_count": 178,
     "metadata": {},
     "output_type": "execute_result"
    }
   ],
   "source": [
    "data=pd.read_csv('Data_Set.csv')\n",
    "data # need to \"clean\" the data."
   ],
   "metadata": {
    "collapsed": false,
    "pycharm": {
     "name": "#%%\n"
    }
   }
  },
  {
   "cell_type": "markdown",
   "source": [
    "Read headers"
   ],
   "metadata": {
    "collapsed": false
   }
  },
  {
   "cell_type": "code",
   "execution_count": 179,
   "outputs": [
    {
     "data": {
      "text/plain": "Index(['Name of the data = Home Consumption', 'Unnamed: 1', 'Unnamed: 2',\n       'Unnamed: 3', 'Unnamed: 4', 'Unnamed: 5'],\n      dtype='object')"
     },
     "execution_count": 179,
     "metadata": {},
     "output_type": "execute_result"
    }
   ],
   "source": [
    "data.columns"
   ],
   "metadata": {
    "collapsed": false,
    "pycharm": {
     "name": "#%%\n"
    }
   }
  },
  {
   "cell_type": "markdown",
   "source": [
    "Read each column"
   ],
   "metadata": {
    "collapsed": false
   }
  },
  {
   "cell_type": "code",
   "execution_count": 180,
   "outputs": [
    {
     "data": {
      "text/plain": "  Unnamed: 1 Unnamed: 2\n0        NaN        NaN\n1     E_Plug     E_Heat\n2         24         28\n3         17         32\n4         16         34\n5         16         34",
      "text/html": "<div>\n<style scoped>\n    .dataframe tbody tr th:only-of-type {\n        vertical-align: middle;\n    }\n\n    .dataframe tbody tr th {\n        vertical-align: top;\n    }\n\n    .dataframe thead th {\n        text-align: right;\n    }\n</style>\n<table border=\"1\" class=\"dataframe\">\n  <thead>\n    <tr style=\"text-align: right;\">\n      <th></th>\n      <th>Unnamed: 1</th>\n      <th>Unnamed: 2</th>\n    </tr>\n  </thead>\n  <tbody>\n    <tr>\n      <th>0</th>\n      <td>NaN</td>\n      <td>NaN</td>\n    </tr>\n    <tr>\n      <th>1</th>\n      <td>E_Plug</td>\n      <td>E_Heat</td>\n    </tr>\n    <tr>\n      <th>2</th>\n      <td>24</td>\n      <td>28</td>\n    </tr>\n    <tr>\n      <th>3</th>\n      <td>17</td>\n      <td>32</td>\n    </tr>\n    <tr>\n      <th>4</th>\n      <td>16</td>\n      <td>34</td>\n    </tr>\n    <tr>\n      <th>5</th>\n      <td>16</td>\n      <td>34</td>\n    </tr>\n  </tbody>\n</table>\n</div>"
     },
     "execution_count": 180,
     "metadata": {},
     "output_type": "execute_result"
    }
   ],
   "source": [
    "data[['Unnamed: 1','Unnamed: 2']][0:6]"
   ],
   "metadata": {
    "collapsed": false,
    "pycharm": {
     "name": "#%%\n"
    }
   }
  },
  {
   "cell_type": "markdown",
   "source": [
    "Read each row"
   ],
   "metadata": {
    "collapsed": false
   }
  },
  {
   "cell_type": "code",
   "execution_count": 181,
   "outputs": [
    {
     "data": {
      "text/plain": "  Name of the data = Home Consumption Unnamed: 1 Unnamed: 2 Unnamed: 3  \\\n2                                   1         24         28         10   \n3                                   2         17         32         12   \n\n  Unnamed: 4 Unnamed: 5  \n2        -15         12  \n3        -17         12  ",
      "text/html": "<div>\n<style scoped>\n    .dataframe tbody tr th:only-of-type {\n        vertical-align: middle;\n    }\n\n    .dataframe tbody tr th {\n        vertical-align: top;\n    }\n\n    .dataframe thead th {\n        text-align: right;\n    }\n</style>\n<table border=\"1\" class=\"dataframe\">\n  <thead>\n    <tr style=\"text-align: right;\">\n      <th></th>\n      <th>Name of the data = Home Consumption</th>\n      <th>Unnamed: 1</th>\n      <th>Unnamed: 2</th>\n      <th>Unnamed: 3</th>\n      <th>Unnamed: 4</th>\n      <th>Unnamed: 5</th>\n    </tr>\n  </thead>\n  <tbody>\n    <tr>\n      <th>2</th>\n      <td>1</td>\n      <td>24</td>\n      <td>28</td>\n      <td>10</td>\n      <td>-15</td>\n      <td>12</td>\n    </tr>\n    <tr>\n      <th>3</th>\n      <td>2</td>\n      <td>17</td>\n      <td>32</td>\n      <td>12</td>\n      <td>-17</td>\n      <td>12</td>\n    </tr>\n  </tbody>\n</table>\n</div>"
     },
     "execution_count": 181,
     "metadata": {},
     "output_type": "execute_result"
    }
   ],
   "source": [
    "data.iloc[2:4]"
   ],
   "metadata": {
    "collapsed": false,
    "pycharm": {
     "name": "#%%\n"
    }
   }
  },
  {
   "cell_type": "markdown",
   "source": [
    "Read a specific location [R,C]"
   ],
   "metadata": {
    "collapsed": false
   }
  },
  {
   "cell_type": "code",
   "execution_count": 182,
   "outputs": [
    {
     "data": {
      "text/plain": "'24'"
     },
     "execution_count": 182,
     "metadata": {},
     "output_type": "execute_result"
    }
   ],
   "source": [
    "data.iloc[2,1]"
   ],
   "metadata": {
    "collapsed": false,
    "pycharm": {
     "name": "#%%\n"
    }
   }
  },
  {
   "cell_type": "markdown",
   "source": [
    "Iterate row by row (can access any data you wnat)"
   ],
   "metadata": {
    "collapsed": false,
    "pycharm": {
     "name": "#%% md\n"
    }
   }
  },
  {
   "cell_type": "code",
   "execution_count": 183,
   "outputs": [
    {
     "name": "stdout",
     "output_type": "stream",
     "text": [
      "0 nan \n",
      "\n",
      "1 E_Plug \n",
      "\n",
      "2 24 \n",
      "\n",
      "3 17 \n",
      "\n",
      "4 16 \n",
      "\n",
      "5 16 \n",
      "\n",
      "6 16 \n",
      "\n",
      "7 16 \n",
      "\n",
      "8 16 \n",
      "\n",
      "9 19 \n",
      "\n",
      "10 22 \n",
      "\n",
      "11 25 \n",
      "\n",
      "12 26 \n",
      "\n",
      "13 27 \n",
      "\n",
      "14 30 \n",
      "\n",
      "15 30 \n",
      "\n",
      "16 nan \n",
      "\n",
      "17 27 \n",
      "\n",
      "18 27 \n",
      "\n",
      "19 28 \n",
      "\n",
      "20 33 \n",
      "\n",
      "21 42 \n",
      "\n",
      "22 120 \n",
      "\n",
      "23 47 \n",
      "\n",
      "24 44 \n",
      "\n",
      "25 36 \n",
      "\n",
      "26 37 \n",
      "\n"
     ]
    }
   ],
   "source": [
    "for index,row in data.iterrows():\n",
    "    print(index,row['Unnamed: 1'],\"\\n\")"
   ],
   "metadata": {
    "collapsed": false,
    "pycharm": {
     "name": "#%%\n"
    }
   }
  },
  {
   "cell_type": "markdown",
   "source": [
    "Getting rows based on a specific condition"
   ],
   "metadata": {
    "collapsed": false,
    "pycharm": {
     "name": "#%% md\n"
    }
   }
  },
  {
   "cell_type": "code",
   "execution_count": 184,
   "outputs": [
    {
     "data": {
      "text/plain": "  Name of the data = Home Consumption Unnamed: 1 Unnamed: 2 Unnamed: 3  \\\n4                                   3         16         34         11   \n5                                   3         16         34         11   \n6                                   4         16         33         12   \n7                                   5         16         30         10   \n8                                   6         16         31         10   \n\n  Unnamed: 4 Unnamed: 5  \n4        -19         12  \n5        -19         12  \n6        -18         12  \n7        -14         12  \n8        -16         12  ",
      "text/html": "<div>\n<style scoped>\n    .dataframe tbody tr th:only-of-type {\n        vertical-align: middle;\n    }\n\n    .dataframe tbody tr th {\n        vertical-align: top;\n    }\n\n    .dataframe thead th {\n        text-align: right;\n    }\n</style>\n<table border=\"1\" class=\"dataframe\">\n  <thead>\n    <tr style=\"text-align: right;\">\n      <th></th>\n      <th>Name of the data = Home Consumption</th>\n      <th>Unnamed: 1</th>\n      <th>Unnamed: 2</th>\n      <th>Unnamed: 3</th>\n      <th>Unnamed: 4</th>\n      <th>Unnamed: 5</th>\n    </tr>\n  </thead>\n  <tbody>\n    <tr>\n      <th>4</th>\n      <td>3</td>\n      <td>16</td>\n      <td>34</td>\n      <td>11</td>\n      <td>-19</td>\n      <td>12</td>\n    </tr>\n    <tr>\n      <th>5</th>\n      <td>3</td>\n      <td>16</td>\n      <td>34</td>\n      <td>11</td>\n      <td>-19</td>\n      <td>12</td>\n    </tr>\n    <tr>\n      <th>6</th>\n      <td>4</td>\n      <td>16</td>\n      <td>33</td>\n      <td>12</td>\n      <td>-18</td>\n      <td>12</td>\n    </tr>\n    <tr>\n      <th>7</th>\n      <td>5</td>\n      <td>16</td>\n      <td>30</td>\n      <td>10</td>\n      <td>-14</td>\n      <td>12</td>\n    </tr>\n    <tr>\n      <th>8</th>\n      <td>6</td>\n      <td>16</td>\n      <td>31</td>\n      <td>10</td>\n      <td>-16</td>\n      <td>12</td>\n    </tr>\n  </tbody>\n</table>\n</div>"
     },
     "execution_count": 184,
     "metadata": {},
     "output_type": "execute_result"
    }
   ],
   "source": [
    "data.loc[data['Unnamed: 1'] == \"16\"]"
   ],
   "metadata": {
    "collapsed": false,
    "pycharm": {
     "name": "#%%\n"
    }
   }
  },
  {
   "cell_type": "markdown",
   "source": [
    "High Level description of your data (min,max,mean,std dev,etc.)"
   ],
   "metadata": {
    "collapsed": false
   }
  },
  {
   "cell_type": "code",
   "execution_count": 185,
   "outputs": [
    {
     "data": {
      "text/plain": "       Name of the data = Home Consumption Unnamed: 1 Unnamed: 2 Unnamed: 3  \\\ncount                                   27         25         26         26   \nunique                                  26         18         18         12   \ntop                                      3         16         32         12   \nfreq                                     2          5          3          4   \n\n       Unnamed: 4 Unnamed: 5  \ncount          26         26  \nunique         15          8  \ntop             0         12  \nfreq            3         13  ",
      "text/html": "<div>\n<style scoped>\n    .dataframe tbody tr th:only-of-type {\n        vertical-align: middle;\n    }\n\n    .dataframe tbody tr th {\n        vertical-align: top;\n    }\n\n    .dataframe thead th {\n        text-align: right;\n    }\n</style>\n<table border=\"1\" class=\"dataframe\">\n  <thead>\n    <tr style=\"text-align: right;\">\n      <th></th>\n      <th>Name of the data = Home Consumption</th>\n      <th>Unnamed: 1</th>\n      <th>Unnamed: 2</th>\n      <th>Unnamed: 3</th>\n      <th>Unnamed: 4</th>\n      <th>Unnamed: 5</th>\n    </tr>\n  </thead>\n  <tbody>\n    <tr>\n      <th>count</th>\n      <td>27</td>\n      <td>25</td>\n      <td>26</td>\n      <td>26</td>\n      <td>26</td>\n      <td>26</td>\n    </tr>\n    <tr>\n      <th>unique</th>\n      <td>26</td>\n      <td>18</td>\n      <td>18</td>\n      <td>12</td>\n      <td>15</td>\n      <td>8</td>\n    </tr>\n    <tr>\n      <th>top</th>\n      <td>3</td>\n      <td>16</td>\n      <td>32</td>\n      <td>12</td>\n      <td>0</td>\n      <td>12</td>\n    </tr>\n    <tr>\n      <th>freq</th>\n      <td>2</td>\n      <td>5</td>\n      <td>3</td>\n      <td>4</td>\n      <td>3</td>\n      <td>13</td>\n    </tr>\n  </tbody>\n</table>\n</div>"
     },
     "execution_count": 185,
     "metadata": {},
     "output_type": "execute_result"
    }
   ],
   "source": [
    "data.describe()"
   ],
   "metadata": {
    "collapsed": false,
    "pycharm": {
     "name": "#%%\n"
    }
   }
  },
  {
   "cell_type": "markdown",
   "source": [
    "Sorting in ascending order and descending order at the same time:\n",
    "\n",
    "we can write 'ascending=[1,0]' to specify in which way we want to sort each column.\n",
    "\n",
    "First column will be in ascending order (1) and the second column will be in descending order (0)"
   ],
   "metadata": {
    "collapsed": false,
    "pycharm": {
     "name": "#%% md\n"
    }
   }
  },
  {
   "cell_type": "code",
   "execution_count": 186,
   "outputs": [
    {
     "data": {
      "text/plain": "   Name of the data = Home Consumption Unnamed: 1 Unnamed: 2 Unnamed: 3  \\\n22                                  20        120         33         21   \n4                                    3         16         34         11   \n5                                    3         16         34         11   \n6                                    4         16         33         12   \n7                                    5         16         30         10   \n8                                    6         16         31         10   \n3                                    2         17         32         12   \n9                                    7         19         28         14   \n10                                   8         22         29         12   \n2                                    1         24         28         10   \n11                                   9         25         26         12   \n12                                  10         26         24         14   \n13                                  11         27         20         14   \n18                                  16         27         16         17   \n17                                  15         27         14         17   \n19                                  17         28         -4         18   \n14                                  12         30         19         16   \n15                                  13         30         19         16   \n20                                  18         33         26         20   \n25                                  23         36         35          !   \n26                                  24         37         36         18   \n21                                  19         42         32         21   \n24                                  22         44         30         22   \n23                                  21         47         32         21   \n1                                 Time     E_Plug     E_Heat      Price   \n16                                  14        NaN         13         17   \n0                   Unit = kW and $/kW        NaN        NaN        NaN   \n\n     Unnamed: 4     Unnamed: 5  \n22          -12             12  \n4           -19             12  \n5           -19             12  \n6           -18             12  \n7           -14             12  \n8           -16             12  \n3           -17             12  \n9           -14             12  \n10          -15              9  \n2           -15             12  \n11          -12              8  \n12           -8              8  \n13           -4              8  \n18            2              6  \n17            3              4  \n19            0              8  \n14            0              5  \n15            0              4  \n20           -6              9  \n25          -19             12  \n26          -22             12  \n21           -8             10  \n24          -18             12  \n23          -16             12  \n1   Temperature  No. Occupants  \n16            2              4  \n0           NaN            NaN  ",
      "text/html": "<div>\n<style scoped>\n    .dataframe tbody tr th:only-of-type {\n        vertical-align: middle;\n    }\n\n    .dataframe tbody tr th {\n        vertical-align: top;\n    }\n\n    .dataframe thead th {\n        text-align: right;\n    }\n</style>\n<table border=\"1\" class=\"dataframe\">\n  <thead>\n    <tr style=\"text-align: right;\">\n      <th></th>\n      <th>Name of the data = Home Consumption</th>\n      <th>Unnamed: 1</th>\n      <th>Unnamed: 2</th>\n      <th>Unnamed: 3</th>\n      <th>Unnamed: 4</th>\n      <th>Unnamed: 5</th>\n    </tr>\n  </thead>\n  <tbody>\n    <tr>\n      <th>22</th>\n      <td>20</td>\n      <td>120</td>\n      <td>33</td>\n      <td>21</td>\n      <td>-12</td>\n      <td>12</td>\n    </tr>\n    <tr>\n      <th>4</th>\n      <td>3</td>\n      <td>16</td>\n      <td>34</td>\n      <td>11</td>\n      <td>-19</td>\n      <td>12</td>\n    </tr>\n    <tr>\n      <th>5</th>\n      <td>3</td>\n      <td>16</td>\n      <td>34</td>\n      <td>11</td>\n      <td>-19</td>\n      <td>12</td>\n    </tr>\n    <tr>\n      <th>6</th>\n      <td>4</td>\n      <td>16</td>\n      <td>33</td>\n      <td>12</td>\n      <td>-18</td>\n      <td>12</td>\n    </tr>\n    <tr>\n      <th>7</th>\n      <td>5</td>\n      <td>16</td>\n      <td>30</td>\n      <td>10</td>\n      <td>-14</td>\n      <td>12</td>\n    </tr>\n    <tr>\n      <th>8</th>\n      <td>6</td>\n      <td>16</td>\n      <td>31</td>\n      <td>10</td>\n      <td>-16</td>\n      <td>12</td>\n    </tr>\n    <tr>\n      <th>3</th>\n      <td>2</td>\n      <td>17</td>\n      <td>32</td>\n      <td>12</td>\n      <td>-17</td>\n      <td>12</td>\n    </tr>\n    <tr>\n      <th>9</th>\n      <td>7</td>\n      <td>19</td>\n      <td>28</td>\n      <td>14</td>\n      <td>-14</td>\n      <td>12</td>\n    </tr>\n    <tr>\n      <th>10</th>\n      <td>8</td>\n      <td>22</td>\n      <td>29</td>\n      <td>12</td>\n      <td>-15</td>\n      <td>9</td>\n    </tr>\n    <tr>\n      <th>2</th>\n      <td>1</td>\n      <td>24</td>\n      <td>28</td>\n      <td>10</td>\n      <td>-15</td>\n      <td>12</td>\n    </tr>\n    <tr>\n      <th>11</th>\n      <td>9</td>\n      <td>25</td>\n      <td>26</td>\n      <td>12</td>\n      <td>-12</td>\n      <td>8</td>\n    </tr>\n    <tr>\n      <th>12</th>\n      <td>10</td>\n      <td>26</td>\n      <td>24</td>\n      <td>14</td>\n      <td>-8</td>\n      <td>8</td>\n    </tr>\n    <tr>\n      <th>13</th>\n      <td>11</td>\n      <td>27</td>\n      <td>20</td>\n      <td>14</td>\n      <td>-4</td>\n      <td>8</td>\n    </tr>\n    <tr>\n      <th>18</th>\n      <td>16</td>\n      <td>27</td>\n      <td>16</td>\n      <td>17</td>\n      <td>2</td>\n      <td>6</td>\n    </tr>\n    <tr>\n      <th>17</th>\n      <td>15</td>\n      <td>27</td>\n      <td>14</td>\n      <td>17</td>\n      <td>3</td>\n      <td>4</td>\n    </tr>\n    <tr>\n      <th>19</th>\n      <td>17</td>\n      <td>28</td>\n      <td>-4</td>\n      <td>18</td>\n      <td>0</td>\n      <td>8</td>\n    </tr>\n    <tr>\n      <th>14</th>\n      <td>12</td>\n      <td>30</td>\n      <td>19</td>\n      <td>16</td>\n      <td>0</td>\n      <td>5</td>\n    </tr>\n    <tr>\n      <th>15</th>\n      <td>13</td>\n      <td>30</td>\n      <td>19</td>\n      <td>16</td>\n      <td>0</td>\n      <td>4</td>\n    </tr>\n    <tr>\n      <th>20</th>\n      <td>18</td>\n      <td>33</td>\n      <td>26</td>\n      <td>20</td>\n      <td>-6</td>\n      <td>9</td>\n    </tr>\n    <tr>\n      <th>25</th>\n      <td>23</td>\n      <td>36</td>\n      <td>35</td>\n      <td>!</td>\n      <td>-19</td>\n      <td>12</td>\n    </tr>\n    <tr>\n      <th>26</th>\n      <td>24</td>\n      <td>37</td>\n      <td>36</td>\n      <td>18</td>\n      <td>-22</td>\n      <td>12</td>\n    </tr>\n    <tr>\n      <th>21</th>\n      <td>19</td>\n      <td>42</td>\n      <td>32</td>\n      <td>21</td>\n      <td>-8</td>\n      <td>10</td>\n    </tr>\n    <tr>\n      <th>24</th>\n      <td>22</td>\n      <td>44</td>\n      <td>30</td>\n      <td>22</td>\n      <td>-18</td>\n      <td>12</td>\n    </tr>\n    <tr>\n      <th>23</th>\n      <td>21</td>\n      <td>47</td>\n      <td>32</td>\n      <td>21</td>\n      <td>-16</td>\n      <td>12</td>\n    </tr>\n    <tr>\n      <th>1</th>\n      <td>Time</td>\n      <td>E_Plug</td>\n      <td>E_Heat</td>\n      <td>Price</td>\n      <td>Temperature</td>\n      <td>No. Occupants</td>\n    </tr>\n    <tr>\n      <th>16</th>\n      <td>14</td>\n      <td>NaN</td>\n      <td>13</td>\n      <td>17</td>\n      <td>2</td>\n      <td>4</td>\n    </tr>\n    <tr>\n      <th>0</th>\n      <td>Unit = kW and $/kW</td>\n      <td>NaN</td>\n      <td>NaN</td>\n      <td>NaN</td>\n      <td>NaN</td>\n      <td>NaN</td>\n    </tr>\n  </tbody>\n</table>\n</div>"
     },
     "execution_count": 186,
     "metadata": {},
     "output_type": "execute_result"
    }
   ],
   "source": [
    "data.sort_values(['Unnamed: 1','Unnamed: 5'],ascending=[1,0])"
   ],
   "metadata": {
    "collapsed": false,
    "pycharm": {
     "name": "#%%\n"
    }
   }
  },
  {
   "cell_type": "markdown",
   "source": [
    "**Saving our modified data**"
   ],
   "metadata": {
    "collapsed": false
   }
  },
  {
   "cell_type": "code",
   "execution_count": 187,
   "outputs": [],
   "source": [
    "data.to_csv('modified_data.csv',index=False)"
   ],
   "metadata": {
    "collapsed": false,
    "pycharm": {
     "name": "#%%\n"
    }
   }
  },
  {
   "cell_type": "code",
   "execution_count": 188,
   "outputs": [],
   "source": [
    "data.to_csv('modified_data.txt',index=False,sep='\\t')#txt format"
   ],
   "metadata": {
    "collapsed": false,
    "pycharm": {
     "name": "#%%\n"
    }
   }
  }
 ],
 "metadata": {
  "kernelspec": {
   "display_name": "Python 3",
   "language": "python",
   "name": "python3"
  },
  "language_info": {
   "codemirror_mode": {
    "name": "ipython",
    "version": 2
   },
   "file_extension": ".py",
   "mimetype": "text/x-python",
   "name": "python",
   "nbconvert_exporter": "python",
   "pygments_lexer": "ipython2",
   "version": "2.7.6"
  }
 },
 "nbformat": 4,
 "nbformat_minor": 0
}